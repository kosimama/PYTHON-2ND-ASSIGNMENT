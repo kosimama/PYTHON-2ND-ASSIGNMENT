{
 "cells": [
  {
   "cell_type": "markdown",
   "id": "61b1008d-96b3-4bbe-8dd1-2fb21ae94ea0",
   "metadata": {},
   "source": [
    "# Task 1"
   ]
  },
  {
   "cell_type": "code",
   "execution_count": 2,
   "id": "e30d33e7-9e1a-41d2-81b2-ec46a77138cd",
   "metadata": {},
   "outputs": [
    {
     "name": "stdin",
     "output_type": "stream",
     "text": [
      "Player 1, enter rock, paper, or scissors:  scissors\n",
      "Player 2, enter rock, paper, or scissors:  paper\n"
     ]
    },
    {
     "name": "stdout",
     "output_type": "stream",
     "text": [
      "Player 1 wins!\n"
     ]
    }
   ],
   "source": [
    "def rock_paper_scissors(player1, player2):\n",
    "    if player1 == player2:\n",
    "        return \"It's a tie!\"\n",
    "    elif (player1 == \"rock\" and player2 == \"scissors\") or \\\n",
    "         (player1 == \"scissors\" and player2 == \"paper\") or \\\n",
    "         (player1 == \"paper\" and player2 == \"rock\"):\n",
    "        return \"Player 1 wins!\"\n",
    "    elif (player2 == \"rock\" and player1 == \"scissors\") or \\\n",
    "         (player2 == \"scissors\" and player1 == \"paper\") or \\\n",
    "         (player2 == \"paper\" and player1 == \"rock\"):\n",
    "        return \"Player 2 wins!\"\n",
    "    else:\n",
    "        return \"Invalid input! Please choose rock, paper, or scissors.\"\n",
    "\n",
    "\n",
    "player1 = input(\"Player 1, enter rock, paper, or scissors: \").lower()\n",
    "player2 = input(\"Player 2, enter rock, paper, or scissors: \").lower()\n",
    "\n",
    "result = rock_paper_scissors(player1, player2)\n",
    "print(result)\n",
    "\n"
   ]
  },
  {
   "cell_type": "markdown",
   "id": "156e530c-1c04-4088-8726-3239a34cb191",
   "metadata": {},
   "source": [
    "# Task 2"
   ]
  },
  {
   "cell_type": "code",
   "execution_count": 5,
   "id": "d7321cc3-caee-4d2d-a5e9-fdd20a49b032",
   "metadata": {},
   "outputs": [
    {
     "name": "stdin",
     "output_type": "stream",
     "text": [
      "Enter the value of p:  10.5\n",
      "Enter the value of q:  12.0\n"
     ]
    },
    {
     "name": "stdout",
     "output_type": "stream",
     "text": [
      "Total area of the stadium: 239.09733552923257\n"
     ]
    }
   ],
   "source": [
    "import math\n",
    "\n",
    "def stadium_area(p, q):\n",
    "    radius = q / 2\n",
    "    area_1 = (math.pi * radius ** 2) / 2  # Half-circle area\n",
    "    area_3 = (math.pi * radius ** 2) / 2  # Another half-circle area\n",
    "    area_2 = p * q  # Rectangle area\n",
    "    total_area = area_1 + area_2 + area_3\n",
    "    return total_area\n",
    "\n",
    "\n",
    "p = float(input(\"Enter the value of p: \"))\n",
    "q = float(input(\"Enter the value of q: \"))\n",
    "\n",
    "\n",
    "result = stadium_area(p, q)\n",
    "print(\"Total area of the stadium:\", result)\n"
   ]
  },
  {
   "cell_type": "markdown",
   "id": "7a2b21c4-658f-470e-90e1-030294652f51",
   "metadata": {},
   "source": [
    "# Task 3"
   ]
  },
  {
   "cell_type": "code",
   "execution_count": 8,
   "id": "96371755-40a1-4247-aa58-e0e3ccf98091",
   "metadata": {},
   "outputs": [
    {
     "name": "stdin",
     "output_type": "stream",
     "text": [
      "Enter the credit card number:  4127-6154-8912-6517\n"
     ]
    },
    {
     "name": "stdout",
     "output_type": "stream",
     "text": [
      "Valid\n"
     ]
    }
   ],
   "source": [
    "import re\n",
    "\n",
    "def is_valid_credit_card(card_number):\n",
    "    \n",
    "    if not re.match(r'^[456]', card_number):\n",
    "        return \"Invalid\"\n",
    "    \n",
    "    \n",
    "    if not re.match(r'^\\d{16}$|^(\\d{4}-){3}\\d{4}$', card_number):\n",
    "        return \"Invalid\"\n",
    "    \n",
    "    \n",
    "    if re.search(r'[^0-9-]', card_number):\n",
    "        return \"Invalid\"\n",
    "    \n",
    "    \n",
    "    card_number = card_number.replace('-', '')\n",
    "    \n",
    "    \n",
    "    if re.search(r'(\\d)\\1{3,}', card_number):\n",
    "        return \"Invalid\"\n",
    "    \n",
    "    return \"Valid\"\n",
    "\n",
    "\n",
    "card_number = input(\"Enter the credit card number: \")\n",
    "print(is_valid_credit_card(card_number))\n"
   ]
  },
  {
   "cell_type": "markdown",
   "id": "fa15f1f3-4785-437f-b050-2547cbfb6205",
   "metadata": {},
   "source": [
    "# Task 4"
   ]
  },
  {
   "cell_type": "code",
   "execution_count": 11,
   "id": "dceb59d2-df02-4106-9be5-5411d31bd50f",
   "metadata": {},
   "outputs": [
    {
     "name": "stdout",
     "output_type": "stream",
     "text": [
      "{'a': [2, 4], 'b': [3, 2]}\n"
     ]
    }
   ],
   "source": [
    "from collections import defaultdict\n",
    "\n",
    "def group_tuples(tuples_list):\n",
    "    grouped_dict = defaultdict(list)\n",
    "    \n",
    "    for key, value in tuples_list:\n",
    "        grouped_dict[key].append(value)\n",
    "    \n",
    "    return dict(grouped_dict)\n",
    "\n",
    "\n",
    "tuples_list = [(\"a\", 2), (\"b\", 3), (\"b\", 2), (\"a\", 4)]\n",
    "\n",
    "\n",
    "result = group_tuples(tuples_list)\n",
    "print(result)\n"
   ]
  },
  {
   "cell_type": "markdown",
   "id": "41817ffc-6147-41c9-88d6-f42310eb9d91",
   "metadata": {},
   "source": [
    "# Task 5"
   ]
  },
  {
   "cell_type": "code",
   "execution_count": 14,
   "id": "103b504f-c97b-4bdd-885b-bb181646b909",
   "metadata": {},
   "outputs": [
    {
     "name": "stdout",
     "output_type": "stream",
     "text": [
      "[1, 3, 2, 4, 6, 5, 7]\n"
     ]
    }
   ],
   "source": [
    "def flatten_list(nested_list):\n",
    "    flattened = []\n",
    "    \n",
    "    def recursive_flatten(sublist):\n",
    "        for item in sublist:\n",
    "            if isinstance(item, list):\n",
    "                recursive_flatten(item)\n",
    "            else:\n",
    "                flattened.append(item)\n",
    "    \n",
    "    recursive_flatten(nested_list)\n",
    "    return flattened\n",
    "\n",
    "# Input nested list\n",
    "nested_list = [[1, 3, [2, 4]], [6, 5], 7]\n",
    "\n",
    "# Flattening the list\n",
    "result = flatten_list(nested_list)\n",
    "print(result)\n"
   ]
  },
  {
   "cell_type": "code",
   "execution_count": null,
   "id": "f5112217-5421-4d84-a253-65503787a484",
   "metadata": {},
   "outputs": [],
   "source": []
  }
 ],
 "metadata": {
  "kernelspec": {
   "display_name": "Python [conda env:base] *",
   "language": "python",
   "name": "conda-base-py"
  },
  "language_info": {
   "codemirror_mode": {
    "name": "ipython",
    "version": 3
   },
   "file_extension": ".py",
   "mimetype": "text/x-python",
   "name": "python",
   "nbconvert_exporter": "python",
   "pygments_lexer": "ipython3",
   "version": "3.12.7"
  }
 },
 "nbformat": 4,
 "nbformat_minor": 5
}
